{
 "cells": [
  {
   "cell_type": "markdown",
   "metadata": {},
   "source": [
    "# Exploratory Data Analysis"
   ]
  },
  {
   "cell_type": "code",
   "execution_count": 85,
   "metadata": {},
   "outputs": [],
   "source": [
    "import pandas as pd\n",
    "import numpy as np\n",
    "import plotly.express as px\n",
    "import plotly.graph_objs as go"
   ]
  },
  {
   "cell_type": "markdown",
   "metadata": {},
   "source": [
    "## Initial insight"
   ]
  },
  {
   "cell_type": "code",
   "execution_count": 88,
   "metadata": {},
   "outputs": [
    {
     "data": {
      "text/html": [
       "<div>\n",
       "<style scoped>\n",
       "    .dataframe tbody tr th:only-of-type {\n",
       "        vertical-align: middle;\n",
       "    }\n",
       "\n",
       "    .dataframe tbody tr th {\n",
       "        vertical-align: top;\n",
       "    }\n",
       "\n",
       "    .dataframe thead th {\n",
       "        text-align: right;\n",
       "    }\n",
       "</style>\n",
       "<table border=\"1\" class=\"dataframe\">\n",
       "  <thead>\n",
       "    <tr style=\"text-align: right;\">\n",
       "      <th></th>\n",
       "      <th>Stakes</th>\n",
       "      <th>Odds</th>\n",
       "      <th>Available</th>\n",
       "      <th>Num_Runners</th>\n",
       "      <th>Race_Type</th>\n",
       "      <th>Going</th>\n",
       "      <th>Days</th>\n",
       "      <th>Bet_Strength</th>\n",
       "      <th>Result</th>\n",
       "    </tr>\n",
       "  </thead>\n",
       "  <tbody>\n",
       "    <tr>\n",
       "      <th>0</th>\n",
       "      <td>2</td>\n",
       "      <td>2.90</td>\n",
       "      <td>41</td>\n",
       "      <td>6</td>\n",
       "      <td>FLAT</td>\n",
       "      <td>GOOD/SOFT</td>\n",
       "      <td>33</td>\n",
       "      <td>2</td>\n",
       "      <td>LOSER</td>\n",
       "    </tr>\n",
       "    <tr>\n",
       "      <th>1</th>\n",
       "      <td>2</td>\n",
       "      <td>7.20</td>\n",
       "      <td>1589</td>\n",
       "      <td>10</td>\n",
       "      <td>HURDLE</td>\n",
       "      <td>FIRM</td>\n",
       "      <td>19</td>\n",
       "      <td>3</td>\n",
       "      <td>WINNER</td>\n",
       "    </tr>\n",
       "    <tr>\n",
       "      <th>2</th>\n",
       "      <td>2</td>\n",
       "      <td>1.04</td>\n",
       "      <td>169</td>\n",
       "      <td>14</td>\n",
       "      <td>HURDLE</td>\n",
       "      <td>HEAVY</td>\n",
       "      <td>6</td>\n",
       "      <td>2</td>\n",
       "      <td>WINNER</td>\n",
       "    </tr>\n",
       "    <tr>\n",
       "      <th>3</th>\n",
       "      <td>2</td>\n",
       "      <td>2.26</td>\n",
       "      <td>75</td>\n",
       "      <td>9</td>\n",
       "      <td>FLAT</td>\n",
       "      <td>FAST</td>\n",
       "      <td>15</td>\n",
       "      <td>2</td>\n",
       "      <td>LOSER</td>\n",
       "    </tr>\n",
       "    <tr>\n",
       "      <th>4</th>\n",
       "      <td>5</td>\n",
       "      <td>1.83</td>\n",
       "      <td>248</td>\n",
       "      <td>16</td>\n",
       "      <td>HURDLE</td>\n",
       "      <td>SOFT</td>\n",
       "      <td>14</td>\n",
       "      <td>4</td>\n",
       "      <td>LOSER</td>\n",
       "    </tr>\n",
       "  </tbody>\n",
       "</table>\n",
       "</div>"
      ],
      "text/plain": [
       "   Stakes  Odds  Available  Num_Runners Race_Type      Going  Days  \\\n",
       "0       2  2.90         41            6      FLAT  GOOD/SOFT    33   \n",
       "1       2  7.20       1589           10    HURDLE       FIRM    19   \n",
       "2       2  1.04        169           14    HURDLE      HEAVY     6   \n",
       "3       2  2.26         75            9      FLAT       FAST    15   \n",
       "4       5  1.83        248           16    HURDLE       SOFT    14   \n",
       "\n",
       "   Bet_Strength  Result  \n",
       "0             2   LOSER  \n",
       "1             3  WINNER  \n",
       "2             2  WINNER  \n",
       "3             2   LOSER  \n",
       "4             4   LOSER  "
      ]
     },
     "execution_count": 88,
     "metadata": {},
     "output_type": "execute_result"
    }
   ],
   "source": [
    "df = pd.read_csv('bet_table.csv')\n",
    "df.head()"
   ]
  },
  {
   "cell_type": "code",
   "execution_count": 108,
   "metadata": {},
   "outputs": [
    {
     "name": "stdout",
     "output_type": "stream",
     "text": [
      "<class 'pandas.core.frame.DataFrame'>\n",
      "RangeIndex: 3208 entries, 0 to 3207\n",
      "Data columns (total 10 columns):\n",
      " #   Column        Non-Null Count  Dtype  \n",
      "---  ------        --------------  -----  \n",
      " 0   Stakes        3208 non-null   int64  \n",
      " 1   Odds          3208 non-null   float64\n",
      " 2   Available     3208 non-null   int64  \n",
      " 3   Num_Runners   3208 non-null   int64  \n",
      " 4   Race_Type     3208 non-null   object \n",
      " 5   Going         3208 non-null   object \n",
      " 6   Days          3208 non-null   int64  \n",
      " 7   Bet_Strength  3208 non-null   int64  \n",
      " 8   Result        3208 non-null   object \n",
      " 9   Profit        3208 non-null   float64\n",
      "dtypes: float64(2), int64(5), object(3)\n",
      "memory usage: 250.8+ KB\n"
     ]
    },
    {
     "data": {
      "text/html": [
       "<div>\n",
       "<style scoped>\n",
       "    .dataframe tbody tr th:only-of-type {\n",
       "        vertical-align: middle;\n",
       "    }\n",
       "\n",
       "    .dataframe tbody tr th {\n",
       "        vertical-align: top;\n",
       "    }\n",
       "\n",
       "    .dataframe thead th {\n",
       "        text-align: right;\n",
       "    }\n",
       "</style>\n",
       "<table border=\"1\" class=\"dataframe\">\n",
       "  <thead>\n",
       "    <tr style=\"text-align: right;\">\n",
       "      <th></th>\n",
       "      <th>Stakes</th>\n",
       "      <th>Odds</th>\n",
       "      <th>Available</th>\n",
       "      <th>Num_Runners</th>\n",
       "      <th>Days</th>\n",
       "      <th>Bet_Strength</th>\n",
       "      <th>Profit</th>\n",
       "    </tr>\n",
       "  </thead>\n",
       "  <tbody>\n",
       "    <tr>\n",
       "      <th>count</th>\n",
       "      <td>3208.000000</td>\n",
       "      <td>3208.000000</td>\n",
       "      <td>3208.000000</td>\n",
       "      <td>3208.000000</td>\n",
       "      <td>3208.000000</td>\n",
       "      <td>3208.000000</td>\n",
       "      <td>3208.000000</td>\n",
       "    </tr>\n",
       "    <tr>\n",
       "      <th>mean</th>\n",
       "      <td>2.914589</td>\n",
       "      <td>29.212291</td>\n",
       "      <td>346.107544</td>\n",
       "      <td>10.910536</td>\n",
       "      <td>27.662406</td>\n",
       "      <td>2.765898</td>\n",
       "      <td>1.619330</td>\n",
       "    </tr>\n",
       "    <tr>\n",
       "      <th>std</th>\n",
       "      <td>1.381263</td>\n",
       "      <td>110.710028</td>\n",
       "      <td>467.496642</td>\n",
       "      <td>4.483811</td>\n",
       "      <td>19.151875</td>\n",
       "      <td>1.359028</td>\n",
       "      <td>12.902352</td>\n",
       "    </tr>\n",
       "    <tr>\n",
       "      <th>min</th>\n",
       "      <td>2.000000</td>\n",
       "      <td>1.010000</td>\n",
       "      <td>2.000000</td>\n",
       "      <td>5.000000</td>\n",
       "      <td>5.000000</td>\n",
       "      <td>1.000000</td>\n",
       "      <td>-5.000000</td>\n",
       "    </tr>\n",
       "    <tr>\n",
       "      <th>25%</th>\n",
       "      <td>2.000000</td>\n",
       "      <td>1.607500</td>\n",
       "      <td>45.000000</td>\n",
       "      <td>7.000000</td>\n",
       "      <td>15.000000</td>\n",
       "      <td>2.000000</td>\n",
       "      <td>-2.000000</td>\n",
       "    </tr>\n",
       "    <tr>\n",
       "      <th>50%</th>\n",
       "      <td>2.000000</td>\n",
       "      <td>2.470000</td>\n",
       "      <td>139.500000</td>\n",
       "      <td>10.000000</td>\n",
       "      <td>21.000000</td>\n",
       "      <td>3.000000</td>\n",
       "      <td>-2.000000</td>\n",
       "    </tr>\n",
       "    <tr>\n",
       "      <th>75%</th>\n",
       "      <td>5.000000</td>\n",
       "      <td>5.600000</td>\n",
       "      <td>437.500000</td>\n",
       "      <td>13.000000</td>\n",
       "      <td>35.000000</td>\n",
       "      <td>4.000000</td>\n",
       "      <td>3.840000</td>\n",
       "    </tr>\n",
       "    <tr>\n",
       "      <th>max</th>\n",
       "      <td>5.000000</td>\n",
       "      <td>900.000000</td>\n",
       "      <td>2150.000000</td>\n",
       "      <td>26.000000</td>\n",
       "      <td>125.000000</td>\n",
       "      <td>5.000000</td>\n",
       "      <td>600.000000</td>\n",
       "    </tr>\n",
       "  </tbody>\n",
       "</table>\n",
       "</div>"
      ],
      "text/plain": [
       "            Stakes         Odds    Available  Num_Runners         Days  \\\n",
       "count  3208.000000  3208.000000  3208.000000  3208.000000  3208.000000   \n",
       "mean      2.914589    29.212291   346.107544    10.910536    27.662406   \n",
       "std       1.381263   110.710028   467.496642     4.483811    19.151875   \n",
       "min       2.000000     1.010000     2.000000     5.000000     5.000000   \n",
       "25%       2.000000     1.607500    45.000000     7.000000    15.000000   \n",
       "50%       2.000000     2.470000   139.500000    10.000000    21.000000   \n",
       "75%       5.000000     5.600000   437.500000    13.000000    35.000000   \n",
       "max       5.000000   900.000000  2150.000000    26.000000   125.000000   \n",
       "\n",
       "       Bet_Strength       Profit  \n",
       "count   3208.000000  3208.000000  \n",
       "mean       2.765898     1.619330  \n",
       "std        1.359028    12.902352  \n",
       "min        1.000000    -5.000000  \n",
       "25%        2.000000    -2.000000  \n",
       "50%        3.000000    -2.000000  \n",
       "75%        4.000000     3.840000  \n",
       "max        5.000000   600.000000  "
      ]
     },
     "execution_count": 108,
     "metadata": {},
     "output_type": "execute_result"
    }
   ],
   "source": [
    "df.info()\n",
    "df.describe()"
   ]
  },
  {
   "cell_type": "markdown",
   "metadata": {},
   "source": [
    "### Calculate profit row"
   ]
  },
  {
   "cell_type": "code",
   "execution_count": 109,
   "metadata": {},
   "outputs": [
    {
     "data": {
      "text/html": [
       "<div>\n",
       "<style scoped>\n",
       "    .dataframe tbody tr th:only-of-type {\n",
       "        vertical-align: middle;\n",
       "    }\n",
       "\n",
       "    .dataframe tbody tr th {\n",
       "        vertical-align: top;\n",
       "    }\n",
       "\n",
       "    .dataframe thead th {\n",
       "        text-align: right;\n",
       "    }\n",
       "</style>\n",
       "<table border=\"1\" class=\"dataframe\">\n",
       "  <thead>\n",
       "    <tr style=\"text-align: right;\">\n",
       "      <th></th>\n",
       "      <th>Stakes</th>\n",
       "      <th>Odds</th>\n",
       "      <th>Available</th>\n",
       "      <th>Num_Runners</th>\n",
       "      <th>Race_Type</th>\n",
       "      <th>Going</th>\n",
       "      <th>Days</th>\n",
       "      <th>Bet_Strength</th>\n",
       "      <th>Result</th>\n",
       "      <th>Profit</th>\n",
       "    </tr>\n",
       "  </thead>\n",
       "  <tbody>\n",
       "    <tr>\n",
       "      <th>0</th>\n",
       "      <td>2</td>\n",
       "      <td>2.90</td>\n",
       "      <td>41</td>\n",
       "      <td>6</td>\n",
       "      <td>FLAT</td>\n",
       "      <td>GOOD/SOFT</td>\n",
       "      <td>33</td>\n",
       "      <td>2</td>\n",
       "      <td>LOSER</td>\n",
       "      <td>-2.00</td>\n",
       "    </tr>\n",
       "    <tr>\n",
       "      <th>1</th>\n",
       "      <td>2</td>\n",
       "      <td>7.20</td>\n",
       "      <td>1589</td>\n",
       "      <td>10</td>\n",
       "      <td>HURDLE</td>\n",
       "      <td>FIRM</td>\n",
       "      <td>19</td>\n",
       "      <td>3</td>\n",
       "      <td>WINNER</td>\n",
       "      <td>14.40</td>\n",
       "    </tr>\n",
       "    <tr>\n",
       "      <th>2</th>\n",
       "      <td>2</td>\n",
       "      <td>1.04</td>\n",
       "      <td>169</td>\n",
       "      <td>14</td>\n",
       "      <td>HURDLE</td>\n",
       "      <td>HEAVY</td>\n",
       "      <td>6</td>\n",
       "      <td>2</td>\n",
       "      <td>WINNER</td>\n",
       "      <td>2.08</td>\n",
       "    </tr>\n",
       "    <tr>\n",
       "      <th>3</th>\n",
       "      <td>2</td>\n",
       "      <td>2.26</td>\n",
       "      <td>75</td>\n",
       "      <td>9</td>\n",
       "      <td>FLAT</td>\n",
       "      <td>FAST</td>\n",
       "      <td>15</td>\n",
       "      <td>2</td>\n",
       "      <td>LOSER</td>\n",
       "      <td>-2.00</td>\n",
       "    </tr>\n",
       "    <tr>\n",
       "      <th>4</th>\n",
       "      <td>5</td>\n",
       "      <td>1.83</td>\n",
       "      <td>248</td>\n",
       "      <td>16</td>\n",
       "      <td>HURDLE</td>\n",
       "      <td>SOFT</td>\n",
       "      <td>14</td>\n",
       "      <td>4</td>\n",
       "      <td>LOSER</td>\n",
       "      <td>-5.00</td>\n",
       "    </tr>\n",
       "  </tbody>\n",
       "</table>\n",
       "</div>"
      ],
      "text/plain": [
       "   Stakes  Odds  Available  Num_Runners Race_Type      Going  Days  \\\n",
       "0       2  2.90         41            6      FLAT  GOOD/SOFT    33   \n",
       "1       2  7.20       1589           10    HURDLE       FIRM    19   \n",
       "2       2  1.04        169           14    HURDLE      HEAVY     6   \n",
       "3       2  2.26         75            9      FLAT       FAST    15   \n",
       "4       5  1.83        248           16    HURDLE       SOFT    14   \n",
       "\n",
       "   Bet_Strength  Result  Profit  \n",
       "0             2   LOSER   -2.00  \n",
       "1             3  WINNER   14.40  \n",
       "2             2  WINNER    2.08  \n",
       "3             2   LOSER   -2.00  \n",
       "4             4   LOSER   -5.00  "
      ]
     },
     "execution_count": 109,
     "metadata": {},
     "output_type": "execute_result"
    }
   ],
   "source": [
    "def calculate_profit(row):\n",
    "    if row['Result'] == 'WINNER':\n",
    "        return row['Stakes'] * row['Odds']\n",
    "    elif row['Result'] == 'LOSER':\n",
    "        return -row['Stakes']\n",
    "    else:\n",
    "        return 0\n",
    "\n",
    "df['Profit'] = df.apply(calculate_profit, axis=1)\n",
    "df.head()"
   ]
  },
  {
   "cell_type": "markdown",
   "metadata": {},
   "source": [
    "### Num_Runners vs Win_Rate"
   ]
  },
  {
   "cell_type": "code",
   "execution_count": 116,
   "metadata": {},
   "outputs": [],
   "source": [
    "ave_profit_num_runners = df.groupby('Num_Runners').Profit.mean().reset_index()\n",
    "win_rate_num_runners = df.Result.eq('WINNER').groupby(df.Num_Runners).mean().mul(100).reset_index()\n",
    "num_runners_df = ave_profit_num_runners.merge(win_rate_num_runners, how='inner', on='Num_Runners')\n",
    "num_runners_df.rename(columns = {\n",
    "    'Profit': 'Mean_Profit',\n",
    "    'Result': 'Win_Rate'\n",
    "}, inplace=True)"
   ]
  },
  {
   "cell_type": "code",
   "execution_count": 149,
   "metadata": {},
   "outputs": [
    {
     "data": {
      "application/vnd.plotly.v1+json": {
       "config": {
        "plotlyServerURL": "https://plot.ly"
       },
       "data": [
        {
         "line": {
          "color": "crimson",
          "width": 4
         },
         "type": "scatter",
         "x": [
          5,
          6,
          7,
          8,
          9,
          10,
          11,
          12,
          13,
          14,
          15,
          16,
          17,
          18,
          19,
          20,
          21,
          22,
          23,
          24,
          25,
          26
         ],
         "y": [
          30.252100840336134,
          35.815602836879435,
          41.07981220657277,
          43.31683168316832,
          46.36363636363636,
          49.224806201550386,
          42.608695652173914,
          46.63461538461539,
          52.46913580246913,
          59.42028985507246,
          52.21238938053098,
          46.22641509433962,
          47.19101123595505,
          53.01204819277109,
          37.735849056603776,
          37.5,
          42.30769230769231,
          28.000000000000004,
          47.368421052631575,
          15.789473684210526,
          30,
          0
         ]
        },
        {
         "line": {
          "color": "crimson",
          "dash": "dash",
          "width": 2
         },
         "mode": "lines",
         "name": "Fit",
         "type": "scatter",
         "x": [
          5,
          5.428571428571429,
          5.857142857142857,
          6.285714285714286,
          6.714285714285714,
          7.142857142857142,
          7.571428571428571,
          8,
          8.428571428571429,
          8.857142857142858,
          9.285714285714285,
          9.714285714285715,
          10.142857142857142,
          10.571428571428571,
          11,
          11.428571428571427,
          11.857142857142858,
          12.285714285714285,
          12.714285714285714,
          13.142857142857142,
          13.571428571428571,
          14,
          14.428571428571429,
          14.857142857142856,
          15.285714285714285,
          15.714285714285714,
          16.142857142857142,
          16.57142857142857,
          17,
          17.428571428571427,
          17.857142857142854,
          18.285714285714285,
          18.714285714285715,
          19.142857142857142,
          19.57142857142857,
          20,
          20.428571428571427,
          20.857142857142854,
          21.285714285714285,
          21.71428571428571,
          22.142857142857142,
          22.57142857142857,
          23,
          23.428571428571427,
          23.857142857142858,
          24.285714285714285,
          24.71428571428571,
          25.142857142857142,
          25.57142857142857,
          26
         ],
         "y": [
          30.719972391583163,
          32.71115890529136,
          34.6034682381465,
          36.39690039014857,
          38.09145536129758,
          39.68713315159352,
          41.18393376103641,
          42.58185718962621,
          43.88090343736297,
          45.08107250424665,
          46.182364390277264,
          47.18477909545482,
          48.088316619779306,
          48.89297696325073,
          49.59876012586909,
          50.20566610763439,
          50.713694908546614,
          51.122846528605784,
          51.433120967811874,
          51.64451822616491,
          51.757038303664885,
          51.77068120031179,
          51.685446916105626,
          51.5013354510464,
          51.21834680513411,
          50.83648097836876,
          50.35573797075034,
          49.77611778227887,
          49.097620412954306,
          48.3202458627767,
          47.44399413174602,
          46.46886521986227,
          45.39485912712545,
          44.22197585353559,
          42.95021539909265,
          41.57957776379664,
          40.11006294764757,
          38.541670950645454,
          36.874401772790236,
          35.10825541408199,
          33.243231874520646,
          31.27933115410627,
          29.216553252838793,
          27.054898170718285,
          24.794365907744677,
          22.43495646391804,
          19.976669839238323,
          17.419506033705538,
          14.76346504731969,
          12.008546880080775
         ]
        }
       ],
       "layout": {
        "showlegend": false,
        "template": {
         "data": {
          "bar": [
           {
            "error_x": {
             "color": "#2a3f5f"
            },
            "error_y": {
             "color": "#2a3f5f"
            },
            "marker": {
             "line": {
              "color": "#E5ECF6",
              "width": 0.5
             },
             "pattern": {
              "fillmode": "overlay",
              "size": 10,
              "solidity": 0.2
             }
            },
            "type": "bar"
           }
          ],
          "barpolar": [
           {
            "marker": {
             "line": {
              "color": "#E5ECF6",
              "width": 0.5
             },
             "pattern": {
              "fillmode": "overlay",
              "size": 10,
              "solidity": 0.2
             }
            },
            "type": "barpolar"
           }
          ],
          "carpet": [
           {
            "aaxis": {
             "endlinecolor": "#2a3f5f",
             "gridcolor": "white",
             "linecolor": "white",
             "minorgridcolor": "white",
             "startlinecolor": "#2a3f5f"
            },
            "baxis": {
             "endlinecolor": "#2a3f5f",
             "gridcolor": "white",
             "linecolor": "white",
             "minorgridcolor": "white",
             "startlinecolor": "#2a3f5f"
            },
            "type": "carpet"
           }
          ],
          "choropleth": [
           {
            "colorbar": {
             "outlinewidth": 0,
             "ticks": ""
            },
            "type": "choropleth"
           }
          ],
          "contour": [
           {
            "colorbar": {
             "outlinewidth": 0,
             "ticks": ""
            },
            "colorscale": [
             [
              0,
              "#0d0887"
             ],
             [
              0.1111111111111111,
              "#46039f"
             ],
             [
              0.2222222222222222,
              "#7201a8"
             ],
             [
              0.3333333333333333,
              "#9c179e"
             ],
             [
              0.4444444444444444,
              "#bd3786"
             ],
             [
              0.5555555555555556,
              "#d8576b"
             ],
             [
              0.6666666666666666,
              "#ed7953"
             ],
             [
              0.7777777777777778,
              "#fb9f3a"
             ],
             [
              0.8888888888888888,
              "#fdca26"
             ],
             [
              1,
              "#f0f921"
             ]
            ],
            "type": "contour"
           }
          ],
          "contourcarpet": [
           {
            "colorbar": {
             "outlinewidth": 0,
             "ticks": ""
            },
            "type": "contourcarpet"
           }
          ],
          "heatmap": [
           {
            "colorbar": {
             "outlinewidth": 0,
             "ticks": ""
            },
            "colorscale": [
             [
              0,
              "#0d0887"
             ],
             [
              0.1111111111111111,
              "#46039f"
             ],
             [
              0.2222222222222222,
              "#7201a8"
             ],
             [
              0.3333333333333333,
              "#9c179e"
             ],
             [
              0.4444444444444444,
              "#bd3786"
             ],
             [
              0.5555555555555556,
              "#d8576b"
             ],
             [
              0.6666666666666666,
              "#ed7953"
             ],
             [
              0.7777777777777778,
              "#fb9f3a"
             ],
             [
              0.8888888888888888,
              "#fdca26"
             ],
             [
              1,
              "#f0f921"
             ]
            ],
            "type": "heatmap"
           }
          ],
          "heatmapgl": [
           {
            "colorbar": {
             "outlinewidth": 0,
             "ticks": ""
            },
            "colorscale": [
             [
              0,
              "#0d0887"
             ],
             [
              0.1111111111111111,
              "#46039f"
             ],
             [
              0.2222222222222222,
              "#7201a8"
             ],
             [
              0.3333333333333333,
              "#9c179e"
             ],
             [
              0.4444444444444444,
              "#bd3786"
             ],
             [
              0.5555555555555556,
              "#d8576b"
             ],
             [
              0.6666666666666666,
              "#ed7953"
             ],
             [
              0.7777777777777778,
              "#fb9f3a"
             ],
             [
              0.8888888888888888,
              "#fdca26"
             ],
             [
              1,
              "#f0f921"
             ]
            ],
            "type": "heatmapgl"
           }
          ],
          "histogram": [
           {
            "marker": {
             "pattern": {
              "fillmode": "overlay",
              "size": 10,
              "solidity": 0.2
             }
            },
            "type": "histogram"
           }
          ],
          "histogram2d": [
           {
            "colorbar": {
             "outlinewidth": 0,
             "ticks": ""
            },
            "colorscale": [
             [
              0,
              "#0d0887"
             ],
             [
              0.1111111111111111,
              "#46039f"
             ],
             [
              0.2222222222222222,
              "#7201a8"
             ],
             [
              0.3333333333333333,
              "#9c179e"
             ],
             [
              0.4444444444444444,
              "#bd3786"
             ],
             [
              0.5555555555555556,
              "#d8576b"
             ],
             [
              0.6666666666666666,
              "#ed7953"
             ],
             [
              0.7777777777777778,
              "#fb9f3a"
             ],
             [
              0.8888888888888888,
              "#fdca26"
             ],
             [
              1,
              "#f0f921"
             ]
            ],
            "type": "histogram2d"
           }
          ],
          "histogram2dcontour": [
           {
            "colorbar": {
             "outlinewidth": 0,
             "ticks": ""
            },
            "colorscale": [
             [
              0,
              "#0d0887"
             ],
             [
              0.1111111111111111,
              "#46039f"
             ],
             [
              0.2222222222222222,
              "#7201a8"
             ],
             [
              0.3333333333333333,
              "#9c179e"
             ],
             [
              0.4444444444444444,
              "#bd3786"
             ],
             [
              0.5555555555555556,
              "#d8576b"
             ],
             [
              0.6666666666666666,
              "#ed7953"
             ],
             [
              0.7777777777777778,
              "#fb9f3a"
             ],
             [
              0.8888888888888888,
              "#fdca26"
             ],
             [
              1,
              "#f0f921"
             ]
            ],
            "type": "histogram2dcontour"
           }
          ],
          "mesh3d": [
           {
            "colorbar": {
             "outlinewidth": 0,
             "ticks": ""
            },
            "type": "mesh3d"
           }
          ],
          "parcoords": [
           {
            "line": {
             "colorbar": {
              "outlinewidth": 0,
              "ticks": ""
             }
            },
            "type": "parcoords"
           }
          ],
          "pie": [
           {
            "automargin": true,
            "type": "pie"
           }
          ],
          "scatter": [
           {
            "fillpattern": {
             "fillmode": "overlay",
             "size": 10,
             "solidity": 0.2
            },
            "type": "scatter"
           }
          ],
          "scatter3d": [
           {
            "line": {
             "colorbar": {
              "outlinewidth": 0,
              "ticks": ""
             }
            },
            "marker": {
             "colorbar": {
              "outlinewidth": 0,
              "ticks": ""
             }
            },
            "type": "scatter3d"
           }
          ],
          "scattercarpet": [
           {
            "marker": {
             "colorbar": {
              "outlinewidth": 0,
              "ticks": ""
             }
            },
            "type": "scattercarpet"
           }
          ],
          "scattergeo": [
           {
            "marker": {
             "colorbar": {
              "outlinewidth": 0,
              "ticks": ""
             }
            },
            "type": "scattergeo"
           }
          ],
          "scattergl": [
           {
            "marker": {
             "colorbar": {
              "outlinewidth": 0,
              "ticks": ""
             }
            },
            "type": "scattergl"
           }
          ],
          "scattermapbox": [
           {
            "marker": {
             "colorbar": {
              "outlinewidth": 0,
              "ticks": ""
             }
            },
            "type": "scattermapbox"
           }
          ],
          "scatterpolar": [
           {
            "marker": {
             "colorbar": {
              "outlinewidth": 0,
              "ticks": ""
             }
            },
            "type": "scatterpolar"
           }
          ],
          "scatterpolargl": [
           {
            "marker": {
             "colorbar": {
              "outlinewidth": 0,
              "ticks": ""
             }
            },
            "type": "scatterpolargl"
           }
          ],
          "scatterternary": [
           {
            "marker": {
             "colorbar": {
              "outlinewidth": 0,
              "ticks": ""
             }
            },
            "type": "scatterternary"
           }
          ],
          "surface": [
           {
            "colorbar": {
             "outlinewidth": 0,
             "ticks": ""
            },
            "colorscale": [
             [
              0,
              "#0d0887"
             ],
             [
              0.1111111111111111,
              "#46039f"
             ],
             [
              0.2222222222222222,
              "#7201a8"
             ],
             [
              0.3333333333333333,
              "#9c179e"
             ],
             [
              0.4444444444444444,
              "#bd3786"
             ],
             [
              0.5555555555555556,
              "#d8576b"
             ],
             [
              0.6666666666666666,
              "#ed7953"
             ],
             [
              0.7777777777777778,
              "#fb9f3a"
             ],
             [
              0.8888888888888888,
              "#fdca26"
             ],
             [
              1,
              "#f0f921"
             ]
            ],
            "type": "surface"
           }
          ],
          "table": [
           {
            "cells": {
             "fill": {
              "color": "#EBF0F8"
             },
             "line": {
              "color": "white"
             }
            },
            "header": {
             "fill": {
              "color": "#C8D4E3"
             },
             "line": {
              "color": "white"
             }
            },
            "type": "table"
           }
          ]
         },
         "layout": {
          "annotationdefaults": {
           "arrowcolor": "#2a3f5f",
           "arrowhead": 0,
           "arrowwidth": 1
          },
          "autotypenumbers": "strict",
          "coloraxis": {
           "colorbar": {
            "outlinewidth": 0,
            "ticks": ""
           }
          },
          "colorscale": {
           "diverging": [
            [
             0,
             "#8e0152"
            ],
            [
             0.1,
             "#c51b7d"
            ],
            [
             0.2,
             "#de77ae"
            ],
            [
             0.3,
             "#f1b6da"
            ],
            [
             0.4,
             "#fde0ef"
            ],
            [
             0.5,
             "#f7f7f7"
            ],
            [
             0.6,
             "#e6f5d0"
            ],
            [
             0.7,
             "#b8e186"
            ],
            [
             0.8,
             "#7fbc41"
            ],
            [
             0.9,
             "#4d9221"
            ],
            [
             1,
             "#276419"
            ]
           ],
           "sequential": [
            [
             0,
             "#0d0887"
            ],
            [
             0.1111111111111111,
             "#46039f"
            ],
            [
             0.2222222222222222,
             "#7201a8"
            ],
            [
             0.3333333333333333,
             "#9c179e"
            ],
            [
             0.4444444444444444,
             "#bd3786"
            ],
            [
             0.5555555555555556,
             "#d8576b"
            ],
            [
             0.6666666666666666,
             "#ed7953"
            ],
            [
             0.7777777777777778,
             "#fb9f3a"
            ],
            [
             0.8888888888888888,
             "#fdca26"
            ],
            [
             1,
             "#f0f921"
            ]
           ],
           "sequentialminus": [
            [
             0,
             "#0d0887"
            ],
            [
             0.1111111111111111,
             "#46039f"
            ],
            [
             0.2222222222222222,
             "#7201a8"
            ],
            [
             0.3333333333333333,
             "#9c179e"
            ],
            [
             0.4444444444444444,
             "#bd3786"
            ],
            [
             0.5555555555555556,
             "#d8576b"
            ],
            [
             0.6666666666666666,
             "#ed7953"
            ],
            [
             0.7777777777777778,
             "#fb9f3a"
            ],
            [
             0.8888888888888888,
             "#fdca26"
            ],
            [
             1,
             "#f0f921"
            ]
           ]
          },
          "colorway": [
           "#636efa",
           "#EF553B",
           "#00cc96",
           "#ab63fa",
           "#FFA15A",
           "#19d3f3",
           "#FF6692",
           "#B6E880",
           "#FF97FF",
           "#FECB52"
          ],
          "font": {
           "color": "#2a3f5f"
          },
          "geo": {
           "bgcolor": "white",
           "lakecolor": "white",
           "landcolor": "#E5ECF6",
           "showlakes": true,
           "showland": true,
           "subunitcolor": "white"
          },
          "hoverlabel": {
           "align": "left"
          },
          "hovermode": "closest",
          "mapbox": {
           "style": "light"
          },
          "paper_bgcolor": "white",
          "plot_bgcolor": "#E5ECF6",
          "polar": {
           "angularaxis": {
            "gridcolor": "white",
            "linecolor": "white",
            "ticks": ""
           },
           "bgcolor": "#E5ECF6",
           "radialaxis": {
            "gridcolor": "white",
            "linecolor": "white",
            "ticks": ""
           }
          },
          "scene": {
           "xaxis": {
            "backgroundcolor": "#E5ECF6",
            "gridcolor": "white",
            "gridwidth": 2,
            "linecolor": "white",
            "showbackground": true,
            "ticks": "",
            "zerolinecolor": "white"
           },
           "yaxis": {
            "backgroundcolor": "#E5ECF6",
            "gridcolor": "white",
            "gridwidth": 2,
            "linecolor": "white",
            "showbackground": true,
            "ticks": "",
            "zerolinecolor": "white"
           },
           "zaxis": {
            "backgroundcolor": "#E5ECF6",
            "gridcolor": "white",
            "gridwidth": 2,
            "linecolor": "white",
            "showbackground": true,
            "ticks": "",
            "zerolinecolor": "white"
           }
          },
          "shapedefaults": {
           "line": {
            "color": "#2a3f5f"
           }
          },
          "ternary": {
           "aaxis": {
            "gridcolor": "white",
            "linecolor": "white",
            "ticks": ""
           },
           "baxis": {
            "gridcolor": "white",
            "linecolor": "white",
            "ticks": ""
           },
           "bgcolor": "#E5ECF6",
           "caxis": {
            "gridcolor": "white",
            "linecolor": "white",
            "ticks": ""
           }
          },
          "title": {
           "x": 0.05
          },
          "xaxis": {
           "automargin": true,
           "gridcolor": "white",
           "linecolor": "white",
           "ticks": "",
           "title": {
            "standoff": 15
           },
           "zerolinecolor": "white",
           "zerolinewidth": 2
          },
          "yaxis": {
           "automargin": true,
           "gridcolor": "white",
           "linecolor": "white",
           "ticks": "",
           "title": {
            "standoff": 15
           },
           "zerolinecolor": "white",
           "zerolinewidth": 2
          }
         }
        },
        "title": {
         "text": "The effect of the number of racers on percentage of bets won."
        },
        "xaxis": {
         "title": {
          "text": "Number of runners"
         }
        },
        "yaxis": {
         "title": {
          "text": "Win rate (%)"
         }
        }
       }
      }
     },
     "metadata": {},
     "output_type": "display_data"
    }
   ],
   "source": [
    "x = list(num_runners_df.Num_Runners)\n",
    "y = list(num_runners_df.Win_Rate)\n",
    "z = np.polyfit(x, y, 2)\n",
    "f = np.poly1d(z)\n",
    "x_new = np.linspace(x[0], x[-1], 50)\n",
    "y_new = f(x_new)  # Polyfitted x values\n",
    "\n",
    "trace1 = go.Scatter(\n",
    "    x=num_runners_df['Num_Runners'],\n",
    "    y=num_runners_df['Win_Rate'],\n",
    "    line = dict(color='crimson', width=4)\n",
    ")\n",
    "\n",
    "trace2 = go.Scatter(\n",
    "    x=x_new,\n",
    "    y=y_new,\n",
    "    mode='lines',\n",
    "    name='Fit',\n",
    "    line = dict(color='crimson', width=2, dash='dash')\n",
    "    )\n",
    "\n",
    "layout = go.Layout(\n",
    "    title='The effect of the number of racers on percentage of bets won.',\n",
    "    xaxis_title='Number of runners',\n",
    "    yaxis_title='Win rate (%)',\n",
    "    showlegend=False\n",
    ")\n",
    "\n",
    "data = [trace1, trace2]\n",
    "fig = go.Figure(data=data, layout=layout)\n",
    "fig.write_image('../images/num_racers.png')\n",
    "fig"
   ]
  },
  {
   "cell_type": "markdown",
   "metadata": {},
   "source": []
  }
 ],
 "metadata": {
  "kernelspec": {
   "display_name": "Python 3.9.13 ('base')",
   "language": "python",
   "name": "python3"
  },
  "language_info": {
   "codemirror_mode": {
    "name": "ipython",
    "version": 3
   },
   "file_extension": ".py",
   "mimetype": "text/x-python",
   "name": "python",
   "nbconvert_exporter": "python",
   "pygments_lexer": "ipython3",
   "version": "3.9.13"
  },
  "orig_nbformat": 4,
  "vscode": {
   "interpreter": {
    "hash": "0bcf432da8243f285952ce707b599979cf2470b8ebb1a85ff9103c3a3adc60f6"
   }
  }
 },
 "nbformat": 4,
 "nbformat_minor": 2
}
